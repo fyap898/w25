{
 "cells": [
  {
   "cell_type": "markdown",
   "metadata": {},
   "source": [
    "# HuggingFace\n",
    "Install the [HuggingFace `transformers`](https://huggingface.co/docs/transformers) library. In addition, we need `tf-keras` for backwards compatibility, as the HuggingFace team have decided [not to support Keras 3](https://github.com/huggingface/transformers/issues/34761) for the time being.\n",
    "\n",
    "I recommend running this in a new venv or on Colab, as it may mess with your current tensorflow version."
   ]
  },
  {
   "cell_type": "code",
   "execution_count": null,
   "metadata": {},
   "outputs": [],
   "source": [
    "!pip install -q -U transformers tf-keras"
   ]
  },
  {
   "cell_type": "code",
   "execution_count": null,
   "metadata": {},
   "outputs": [],
   "source": [
    "from transformers import pipeline\n",
    "\n",
    "classifier = pipeline(\"sentiment-analysis\")  # many other tasks are available\n",
    "result = classifier(\"The actors were very convincing.\")\n",
    "print(result)"
   ]
  },
  {
   "cell_type": "markdown",
   "metadata": {},
   "source": [
    "Models can be very biased. For example, it may like or dislike some countries depending on the data it was trained on, and how it is used, so use it with care:\n"
   ]
  },
  {
   "cell_type": "code",
   "execution_count": null,
   "metadata": {},
   "outputs": [],
   "source": [
    "classifier([\"I am from India.\", \"I am from Iraq.\"])"
   ]
  },
  {
   "cell_type": "markdown",
   "metadata": {},
   "source": [
    "## Chat Models\n",
    "An open and small-ish model to try is `\"distilbert/distilgpt2\"`."
   ]
  },
  {
   "cell_type": "code",
   "execution_count": null,
   "metadata": {},
   "outputs": [],
   "source": [
    "# my chat agent is named Bluey\n",
    "bluey = pipeline(\"text-generation\", model=\"distilbert/distilgpt2\")\n",
    "\n",
    "# test it out!\n",
    "prompt = \"Help, I'm stuck in a GPU\"\n",
    "print(bluey(prompt, pad_token_id=50256, max_new_tokens=200)[0]['generated_text'])"
   ]
  },
  {
   "cell_type": "markdown",
   "metadata": {},
   "source": [
    "Check out the [Pipeline Documentation](https://huggingface.co/docs/transformers/v4.49.0/en/main_classes/pipelines#transformers.pipeline) to see what other tasks and [models](https://huggingface.co/models) are available. Pick something and try it below!"
   ]
  },
  {
   "cell_type": "code",
   "execution_count": null,
   "metadata": {},
   "outputs": [],
   "source": [
    "#TODO: Choose a reasonably small-sized model to play with"
   ]
  }
 ],
 "metadata": {
  "kernelspec": {
   "display_name": "venv",
   "language": "python",
   "name": "python3"
  },
  "language_info": {
   "codemirror_mode": {
    "name": "ipython",
    "version": 3
   },
   "file_extension": ".py",
   "mimetype": "text/x-python",
   "name": "python",
   "nbconvert_exporter": "python",
   "pygments_lexer": "ipython3",
   "version": "3.12.3"
  }
 },
 "nbformat": 4,
 "nbformat_minor": 2
}
