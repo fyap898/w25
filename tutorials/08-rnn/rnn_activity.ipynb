{
 "cells": [
  {
   "cell_type": "markdown",
   "metadata": {},
   "source": [
    "# RNN Activity: Predicting the stock market\n",
    "![](https://imgs.xkcd.com/comics/marketwatch.png)\n",
    "\n",
    "Note: I do not recommend making any kind of financial decisions based on RNNs.\n",
    "\n",
    "## Setup\n",
    "To fetch the data, we'll need the `yfinance` package. Activate your virtual environment, then run `pip install yfinance`."
   ]
  },
  {
   "cell_type": "code",
   "execution_count": null,
   "metadata": {},
   "outputs": [],
   "source": [
    "import yfinance as yf\n",
    "import matplotlib.pyplot as plt\n",
    "import pandas as pd\n",
    "import tensorflow as tf\n",
    "import numpy as np"
   ]
  },
  {
   "cell_type": "code",
   "execution_count": null,
   "metadata": {},
   "outputs": [],
   "source": [
    "# feel free to play around with different ticker values\n",
    "ticker = \"BTC-USD\"\n",
    "description = \"Bitcoin\"\n",
    "\n",
    "# get the data for the last 10 years. This is daily data by default, so it's not actually that much.\n",
    "data = yf.download(ticker, period=\"10y\")\n",
    "\n",
    "import matplotlib.pyplot as plt\n",
    "\n",
    "plt.plot(data['Close'])\n",
    "plt.ylabel(f'{description} Closing Price (USD)')\n",
    "plt.xticks(rotation=45)\n",
    "plt.show()\n",
    "\n",
    "data.head()"
   ]
  },
  {
   "cell_type": "markdown",
   "metadata": {},
   "source": [
    "## Split the data into training and testing sets\n",
    "Pandas is pretty smart with dates, so we can use the date as an index. Let's keep 2024 as our test set and choose 2023 as validation."
   ]
  },
  {
   "cell_type": "code",
   "execution_count": null,
   "metadata": {},
   "outputs": [],
   "source": [
    "train_val = '2022-12-31'\n",
    "val_test = '2023-12-31'\n",
    "\n",
    "train = data['Close'][:train_val].values\n",
    "val = data['Close'][train_val:val_test].values\n",
    "test = data['Close'][val_test:].values"
   ]
  },
  {
   "cell_type": "code",
   "execution_count": null,
   "metadata": {},
   "outputs": [],
   "source": [
    "# And prepare for RNN\n",
    "window = 7\n",
    "\n",
    "# try using the last 7 days as input to predict the next day\n",
    "def to_ds(data, input_width, batch_size=32):\n",
    "    input_data = data[:-input_width]\n",
    "    targets = data[input_width:]\n",
    "    return tf.keras.utils.timeseries_dataset_from_array(\n",
    "        input_data, \n",
    "        targets, \n",
    "        sequence_length=input_width,\n",
    "        batch_size=batch_size)\n",
    "\n",
    "train_ds = to_ds(train, window)\n",
    "val_ds = to_ds(val, window)\n",
    "test_ds = to_ds(test, window)"
   ]
  },
  {
   "cell_type": "markdown",
   "metadata": {},
   "source": [
    "## SimpleRNN\n",
    "In the cell below, define a [SimpleRNN](https://www.tensorflow.org/api_docs/python/tf/keras/layers/SimpleRNN) layer and try to get it to behave. I recommend starting with a single layer and relatively few nodes to start."
   ]
  },
  {
   "cell_type": "code",
   "execution_count": null,
   "metadata": {},
   "outputs": [],
   "source": [
    "# Inputs should be more or less in the +- 1 range rather than 10e5\n",
    "norm = tf.keras.layers.Normalization(axis=None)\n",
    "norm.adapt(train)\n",
    "\n",
    "simple_RNN = tf.keras.models.Sequential([\n",
    "    tf.keras.layers.Input(shape=(None,1)),\n",
    "    norm,\n",
    "    # TODO: SimpleRNN layer here\n",
    "    tf.keras.layers.Dense(1),\n",
    "])\n",
    "\n",
    "metrics = [\n",
    "    tf.keras.metrics.MeanAbsoluteError(),\n",
    "]\n",
    "\n",
    "simple_RNN.compile(optimizer='adam', loss='mse', metrics=metrics)\n",
    "history = simple_RNN.fit(train_ds, validation_data=val_ds, epochs=100)"
   ]
  },
  {
   "cell_type": "code",
   "execution_count": null,
   "metadata": {},
   "outputs": [],
   "source": [
    "# plot the training curve\n",
    "pd.DataFrame(history.history)[['mean_absolute_error', 'val_mean_absolute_error']].plot()\n",
    "plt.ylim(0, 2000)"
   ]
  },
  {
   "cell_type": "code",
   "execution_count": null,
   "metadata": {},
   "outputs": [],
   "source": [
    "# define the true vector (target)\n",
    "truth = val[window:-window+1]\n",
    "\n",
    "# Predict on the validation set and see how well it does\n",
    "predictions = simple_RNN.predict(val_ds)\n",
    "r_mae = np.abs(predictions - truth).mean()\n",
    "\n",
    "# also define the naive prediction - today is the same as yesterday\n",
    "naive = val[window-1:-window]\n",
    "n_mae = np.abs(naive - truth).mean()\n",
    "\n",
    "# grab the time axis\n",
    "t = data[\"Close\"][train_val:val_test].index\n",
    "t = t[window:-window+1]\n",
    "\n",
    "plt.plot(t, truth, label='True')\n",
    "plt.plot(t, naive, label=f\"Naive (MAE = {n_mae:.1f})\")\n",
    "plt.plot(t, predictions.flatten(), label=f'RNN (MAE = {r_mae:.1f})')\n",
    "plt.legend()"
   ]
  },
  {
   "cell_type": "markdown",
   "metadata": {},
   "source": [
    "## Exercises and Questions\n",
    "1. Can you improve the model? Try playing around with layers, units, activation functions, etc\n",
    "2. Why does it look okay when you overlay the naive model, but the MAE is so high?\n",
    "3. Can you modify the model to try to predict the **direction** of the stock instead of the price (i.e. up or down)?\n",
    "4. Can you modify the model to make it predict X days in the future instead of just 1?"
   ]
  }
 ],
 "metadata": {
  "kernelspec": {
   "display_name": "venv",
   "language": "python",
   "name": "python3"
  },
  "language_info": {
   "codemirror_mode": {
    "name": "ipython",
    "version": 3
   },
   "file_extension": ".py",
   "mimetype": "text/x-python",
   "name": "python",
   "nbconvert_exporter": "python",
   "pygments_lexer": "ipython3",
   "version": "3.12.3"
  }
 },
 "nbformat": 4,
 "nbformat_minor": 2
}
